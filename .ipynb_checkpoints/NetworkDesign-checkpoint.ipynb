{
 "cells": [
  {
   "cell_type": "code",
   "execution_count": 4,
   "id": "21c6e7bd",
   "metadata": {},
   "outputs": [],
   "source": [
    "import networkx as nx\n",
    "import random"
   ]
  },
  {
   "cell_type": "code",
   "execution_count": 14,
   "id": "a8e287eb",
   "metadata": {},
   "outputs": [],
   "source": [
    "def generate_graph(num_nodes):\n",
    "    # Use NetworkX to create a new empty graph\n",
    "    G = nx.Graph()\n",
    "    \n",
    "    # Add nodes to the graph\n",
    "    for i in range(num_nodes):\n",
    "        G.add_node(i)\n",
    "    \n",
    "    # Use Prims algorithm to generate a minimum spanning tree\n",
    "    start_node = random.randint(0, num_nodes-1)\n",
    "    T = nx.minimum_spanning_tree(nx.complete_graph(num_nodes))\n",
    "    \n",
    "    # Add edges from the minimum spanning tree to the graph\n",
    "    for u, v in T.edges():\n",
    "        G.add_edge(u, v)\n",
    "    \n",
    "    return G"
   ]
  },
  {
   "cell_type": "code",
   "execution_count": null,
   "id": "9f52b7bc",
   "metadata": {},
   "outputs": [],
   "source": [
    "A = generate_graph(5)\n",
    "nx.draw(A)"
   ]
  },
  {
   "cell_type": "code",
   "execution_count": null,
   "id": "cc7ed914",
   "metadata": {},
   "outputs": [],
   "source": []
  }
 ],
 "metadata": {
  "kernelspec": {
   "display_name": "Python 3 (ipykernel)",
   "language": "python",
   "name": "python3"
  },
  "language_info": {
   "codemirror_mode": {
    "name": "ipython",
    "version": 3
   },
   "file_extension": ".py",
   "mimetype": "text/x-python",
   "name": "python",
   "nbconvert_exporter": "python",
   "pygments_lexer": "ipython3",
   "version": "3.9.13"
  }
 },
 "nbformat": 4,
 "nbformat_minor": 5
}
